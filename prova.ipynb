{
 "cells": [
  {
   "cell_type": "markdown",
   "metadata": {},
   "source": [
    "# Prova Parcial II"
   ]
  },
  {
   "cell_type": "markdown",
   "metadata": {},
   "source": [
    "Nos exercícios da prova as funções devem ser definidas utilizando paradigma funcional com funções\n",
    "primitivas como: map, reduce, filter, entre outras. Podendo também recorrer a outros conceitos de\n",
    "programação funcional. Recorde que para poder o combinador reduce precisa importar: “from\n",
    "functools import reduce”"
   ]
  },
  {
   "cell_type": "markdown",
   "metadata": {},
   "source": [
    "[2,0] **1.** Defina a função fibonacci que recebe como argumento um número natural $n$ e devolve o\n",
    "$n$-ésimo número da sucessão de Fibonacci. Recorde que a sucessão dos números de Fibonacci é definida recursivamente como se segue:\n",
    "\n",
    "<code>\n",
    "fibonacci(1)=1<br>\n",
    "fibonacci(2)=1<br>\n",
    "fibonacci(n+2)= fibonacci(n+1)+ fibonacci(n)<br>\n",
    "<code>\n"
   ]
  },
  {
   "cell_type": "code",
   "execution_count": 63,
   "metadata": {},
   "outputs": [
    {
     "name": "stdout",
     "output_type": "stream",
     "text": [
      "13\n"
     ]
    }
   ],
   "source": [
    "fib = lambda n: 1 if n == 1 or n == 2 else n+fib(n-1)\n",
    "\n",
    "print(fib(5))"
   ]
  },
  {
   "cell_type": "markdown",
   "metadata": {},
   "source": [
    "[2,0] **2.** Defina a função soma_nat que recebe como argumento um número natural $n$ e devolve a soma de todos os números naturais até $n$.\n",
    "\n",
    "Enunciado da função: soma_nat(10)\n",
    "\n",
    "Resultado da função: 55"
   ]
  },
  {
   "cell_type": "code",
   "execution_count": 43,
   "metadata": {},
   "outputs": [
    {
     "name": "stdout",
     "output_type": "stream",
     "text": [
      "55\n"
     ]
    }
   ],
   "source": [
    "soma_nat = lambda n: 0 if n == 0 else n+soma_nat(n-1)\n",
    "\n",
    "print(soma_nat(10))\n"
   ]
  },
  {
   "cell_type": "markdown",
   "metadata": {},
   "source": [
    "[2,0] **3.** Defina a função quadrados que recebe como argumento um número natural $n$ devolve a lista dos $n$ primeiros quadrados perfeitos.\n",
    "\n",
    "Enunciado da função: <code>quadrados(5)</code> <br>\n",
    "Resultado da função: <code>[1, 4, 9, 16, 25]</code>"
   ]
  },
  {
   "cell_type": "code",
   "execution_count": 39,
   "metadata": {},
   "outputs": [
    {
     "name": "stdout",
     "output_type": "stream",
     "text": [
      "[1, 4, 9, 16, 25]\n"
     ]
    }
   ],
   "source": [
    "quadrados = lambda n: list(map(lambda x: x**2, range(1, n+1)))\n",
    "    \n",
    "print(quadrados(5))"
   ]
  },
  {
   "cell_type": "markdown",
   "metadata": {},
   "source": [
    "[2,0] **4.** Defina a função quadrados_inv que recebe como argumento um número natural $n$ devolve a lista dos $n$ primeiros quadrados perfeitos, por ordem decrescente.\n",
    "\n",
    "<br>Enunciado da função : <code>quadrados_inv(5)</code>\n",
    "<br>Resultado da função: <code>[25, 16, 9, 4, 1]</code>"
   ]
  },
  {
   "cell_type": "code",
   "execution_count": 38,
   "metadata": {},
   "outputs": [
    {
     "name": "stdout",
     "output_type": "stream",
     "text": [
      "[25, 16, 9, 4, 1]\n"
     ]
    }
   ],
   "source": [
    "quadrados_inv = lambda n: list(map(lambda x: x**2, range(n, 0, -1)))\n",
    "    \n",
    "print(quadrados_inv(5))"
   ]
  },
  {
   "cell_type": "markdown",
   "metadata": {},
   "source": [
    "[2,0] **5.** Defina a função indices_pares que recebe como argumento uma lista de números inteiros $w$ e devolve a lista dos elementos de $w$ em posições pares.\n",
    "\n",
    "Enunciado da função : <code>indices_pares([4,3,7,1,2,9])</code><br>\n",
    "Resultado da função: <code>[4, 7, 2]</code>"
   ]
  },
  {
   "cell_type": "code",
   "execution_count": 65,
   "metadata": {},
   "outputs": [
    {
     "name": "stdout",
     "output_type": "stream",
     "text": [
      "[4, 7, 2]\n"
     ]
    }
   ],
   "source": [
    "indices_pares = lambda x: x[::2]\n",
    "\n",
    "print(indices_pares([4,3,7,1,2,9]))"
   ]
  },
  {
   "cell_type": "markdown",
   "metadata": {},
   "source": [
    "[2,0] **6.** Para a lista\n",
    "\n",
    "    \n",
    "    pessoas = [\n",
    "               {'nome': 'Pedro', 'idade': 11},\n",
    "               {'nome': 'Mariana', 'idade': 18},\n",
    "               {'nome': 'Arthur', 'idade': 26},\n",
    "               {'nome': 'Rebeca', 'idade': 6},\n",
    "               {'nome': Raquel, 'idade': 34},\n",
    "               {'nome': 'André', 'idade':22},\n",
    "               {'nome': 'Tiago', 'idade': 19},\n",
    "               {'nome': 'Gabriela', 'idade': 127}\n",
    "              ]\n",
    "    \n",
    "\n",
    "Utilizando apenas função lambda e as funções map, reducee filter. Crie um script que some todas as idades das pessoas com mais de 18 anos e menos que 30:\n"
   ]
  },
  {
   "cell_type": "code",
   "execution_count": 31,
   "metadata": {},
   "outputs": [
    {
     "name": "stdout",
     "output_type": "stream",
     "text": [
      "Soma: 67\n"
     ]
    }
   ],
   "source": [
    "\n",
    "from functools import reduce\n",
    "\n",
    "pessoas = [\n",
    "            {'nome': 'Pedro', 'idade': 11},\n",
    "            {'nome': 'Mariana', 'idade': 18}, \n",
    "            {'nome': 'Arthur', 'idade': 26}, \n",
    "            {'nome': 'Rebeca', 'idade': 6}, \n",
    "            {'nome': 'Raquel', 'idade': 34}, \n",
    "            {'nome': 'André', 'idade':22},\n",
    "            {'nome': 'Tiago', 'idade': 19},\n",
    "            {'nome': 'Gabriela', 'idade': 127}\n",
    "          ]\n",
    "\n",
    "pessoas_selecionadas = filter(lambda x: 18 < x['idade'] < 30, pessoas)\n",
    "\n",
    "soma = reduce(lambda x, y: x + y['idade'], pessoas_selecionadas, 0)\n",
    "\n",
    "print(\"Soma: \" + str(soma))\n",
    "\n"
   ]
  }
 ],
 "metadata": {
  "kernelspec": {
   "display_name": "Python 3",
   "language": "python",
   "name": "python3"
  },
  "language_info": {
   "codemirror_mode": {
    "name": "ipython",
    "version": 3
   },
   "file_extension": ".py",
   "mimetype": "text/x-python",
   "name": "python",
   "nbconvert_exporter": "python",
   "pygments_lexer": "ipython3",
   "version": "3.11.6"
  }
 },
 "nbformat": 4,
 "nbformat_minor": 2
}
